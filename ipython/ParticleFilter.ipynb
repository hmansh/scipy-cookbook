{
 "cells": [
  {
   "cell_type": "markdown",
   "metadata": {},
   "source": [
    "Particle filter\n",
    "===============\n",
    "\n",
    "A basic particle filter tracking algorithm, using a uniformly\n",
    "distributed step as motion model, and the initial target colour as\n",
    "determinant feature for the weighting function. This requires an\n",
    "approximately uniformly coloured object, which moves at a speed no\n",
    "larger than stepsize per frame.\n",
    "\n",
    "This implementation assumes that the video stream is a sequence of numpy\n",
    "arrays, an iterator pointing to such a sequence or a generator\n",
    "generating one. The particle filter itself is a generator to allow for\n",
    "operating on real-time video streams."
   ]
  },
  {
   "cell_type": "code",
   "execution_count": 3,
   "metadata": {},
   "outputs": [],
   "source": [
    "#!python\n",
    "from numpy import *\n",
    "from numpy.random import *\n",
    "\n",
    "\n",
    "def resample(weights):\n",
    "  n = len(weights)\n",
    "  indices = []\n",
    "  C = [0.] + [sum(weights[:i+1]) for i in range(n)]\n",
    "  u0, j = random(), 0\n",
    "  for u in [(u0+i)/n for i in range(n)]:\n",
    "    while u > C[j]:\n",
    "      j+=1\n",
    "    indices.append(j-1)\n",
    "  return indices\n",
    "\n",
    "\n",
    "def particlefilter(sequence, pos, stepsize, n):\n",
    "  seq = iter(sequence)\n",
    "  x = ones((n, 2), int) * pos                   # Initial position\n",
    "  f0 = seq.__next__()[tuple(pos)] * ones(n)         # Target colour model\n",
    "  yield pos, x, ones(n)/n                       # Return expected position, particles and weights\n",
    "  for im in seq:\n",
    "    np.add(x, uniform(-stepsize, stepsize, x.shape), out=x, casting=\"unsafe\")  # Particle motion model: uniform step\n",
    "    x  = x.clip(zeros(2), array(im.shape)-1).astype(int) # Clip out-of-bounds particles\n",
    "    f  = im[tuple(x.T)]                         # Measure particle colours\n",
    "    w  = 1./(1. + (f0-f)**2)                    # Weight~ inverse quadratic colour distance\n",
    "    w /= sum(w)                                 # Normalize w\n",
    "    yield sum(x.T*w, axis=1), x, w              # Return expected position, particles and weights\n",
    "    if 1./sum(w**2) < n/2.:                     # If particle cloud degenerate:\n",
    "      x  = x[resample(w),:]                     # Resample particles according to weights"
   ]
  },
  {
   "cell_type": "markdown",
   "metadata": {},
   "source": [
    "The following code shows the tracker operating on a test sequence\n",
    "featuring a moving square against a uniform background."
   ]
  },
  {
   "cell_type": "code",
   "execution_count": 5,
   "metadata": {},
   "outputs": [
    {
     "data": {
      "image/png": "[encoded data removed]",
      "text/plain": [
       "<matplotlib.figure.Figure at 0x10f5dbbd0>"
      ]
     },
     "metadata": {},
     "output_type": "display_data"
    },
    {
     "data": {
      "text/plain": [
       "None"
      ]
     },
     "metadata": {},
     "output_type": "display_data"
    }
   ],
   "source": [
    "#!python\n",
    "if __name__ == \"__main__\":\n",
    "  from pylab import *\n",
    "  import time\n",
    "  from IPython import display\n",
    "\n",
    "  ion()\n",
    "  seq = [ im for im in zeros((20,240,320), int)]      # Create an image sequence of 20 frames long\n",
    "  x0 = array([120, 160])                              # Add a square with starting position x0 moving along trajectory xs\n",
    "  xs = vstack((arange(20)*3, arange(20)*2)).T + x0\n",
    "  for t, x in enumerate(xs):\n",
    "    xslice = slice(x[0]-8, x[0]+8)\n",
    "    yslice = slice(x[1]-8, x[1]+8)\n",
    "    seq[t][xslice, yslice] = 255\n",
    "\n",
    "  for im, p in zip(seq, particlefilter(seq, x0, 8, 100)): # Track the square through the sequence\n",
    "    pos, xs, ws = p\n",
    "    position_overlay = zeros_like(im)\n",
    "    position_overlay[np.array(pos).astype(int)] = 1\n",
    "    particle_overlay = zeros_like(im)\n",
    "    particle_overlay[tuple(xs.T)] = 1\n",
    "    draw()\n",
    "    time.sleep(0.3)\n",
    "    clf()                                           # Causes flickering, but without the spy plots aren't overwritten\n",
    "    imshow(im,cmap=cm.gray)                         # Plot the image\n",
    "    spy(position_overlay, marker='.', color='b')    # Plot the expected position\n",
    "    spy(particle_overlay, marker=',', color='r')    # Plot the particles\n",
    "    display.clear_output(wait=True)\n",
    "    display.display(show())"
   ]
  },
  {
   "cell_type": "code",
   "execution_count": null,
   "metadata": {
    "collapsed": true
   },
   "outputs": [],
   "source": []
  }
 ],
 "metadata": {
  "kernelspec": {
   "display_name": "Python 2",
   "language": "python",
   "name": "python2"
  },
  "language_info": {
   "codemirror_mode": {
    "name": "ipython",
    "version": 2
   },
   "file_extension": ".py",
   "mimetype": "text/x-python",
   "name": "python",
   "nbconvert_exporter": "python",
   "pygments_lexer": "ipython2",
   "version": "2.7.10"
  }
 },
 "nbformat": 4,
 "nbformat_minor": 1
}
